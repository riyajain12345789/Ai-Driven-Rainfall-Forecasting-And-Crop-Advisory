{
  "cells": [
    {
      "cell_type": "code",
      "execution_count": 1,
      "metadata": {
        "colab": {
          "base_uri": "https://localhost:8080/"
        },
        "id": "7xspaBMNJc08",
        "outputId": "0bc00a9b-f333-4b97-bace-37353f3231c1"
      },
      "outputs": [
        {
          "output_type": "stream",
          "name": "stdout",
          "text": [
            "Mounted at /content/drive/\n"
          ]
        }
      ],
      "source": [
        "from google.colab import drive\n",
        "drive.mount('/content/drive/')"
      ]
    },
    {
      "cell_type": "code",
      "execution_count": 2,
      "metadata": {
        "id": "WCTgAjshJgjI"
      },
      "outputs": [],
      "source": [
        "import xarray as xr\n",
        "import dask"
      ]
    },
    {
      "cell_type": "code",
      "execution_count": 3,
      "metadata": {
        "colab": {
          "base_uri": "https://localhost:8080/"
        },
        "id": "HhOgtQws0Rp4",
        "outputId": "e0688995-995b-44c5-ddc0-c6aa8bff7c7d"
      },
      "outputs": [
        {
          "output_type": "stream",
          "name": "stdout",
          "text": [
            "<xarray.Dataset> Size: 197MB\n",
            "Dimensions:         (valid_time: 731, latitude: 140, longitude: 120,\n",
            "                     pressure_level: 1)\n",
            "Coordinates:\n",
            "    number          int64 8B ...\n",
            "  * valid_time      (valid_time) datetime64[ns] 6kB 2023-01-01 ... 2024-12-31\n",
            "  * latitude        (latitude) float64 1kB 37.95 37.7 37.45 ... 3.7 3.45 3.2\n",
            "  * longitude       (longitude) float64 960B 67.6 67.85 68.1 ... 97.1 97.35\n",
            "    expver          (valid_time) <U4 12kB ...\n",
            "  * pressure_level  (pressure_level) float64 8B 100.0\n",
            "Data variables:\n",
            "    t2m             (valid_time, latitude, longitude) float32 49MB ...\n",
            "    r               (valid_time, pressure_level, latitude, longitude) float32 49MB ...\n",
            "    tp              (valid_time, latitude, longitude) float32 49MB ...\n",
            "    u               (valid_time, pressure_level, latitude, longitude) float32 49MB ...\n",
            "Attributes:\n",
            "    GRIB_centre:             ecmf\n",
            "    GRIB_centreDescription:  European Centre for Medium-Range Weather Forecasts\n",
            "    GRIB_subCentre:          0\n",
            "    Conventions:             CF-1.7\n",
            "    institution:             European Centre for Medium-Range Weather Forecasts\n",
            "    history:                 2025-02-27T13:25 GRIB to CDM+CF via cfgrib-0.9.1...\n"
          ]
        }
      ],
      "source": [
        "# Load separately\n",
        "t2m = xr.open_dataset('/content/drive/MyDrive/rainfall dataset/ERA5_2mtemp_1960-2024.nc')\n",
        "r = xr.open_dataset('/content/drive/MyDrive/rainfall dataset/ERA5_Rh_1960-2024.nc')\n",
        "tp = xr.open_dataset('/content/drive/MyDrive/rainfall dataset/ERA5_Tp_1960-2024.nc')\n",
        "u = xr.open_dataset('/content/drive/MyDrive/rainfall dataset/ERA5_u-wind_1960-2024.nc')\n",
        "\n",
        "# Merge by coordinates\n",
        "ds = xr.merge([t2m, r, tp, u] , compat='override')\n",
        "ds = ds.sel(\n",
        "    valid_time=slice('2023-01-01', '2024-12-31'),\n",
        ")\n",
        "print(ds)"
      ]
    },
    {
      "cell_type": "code",
      "source": [
        "t2m = t2m - 273.15\n"
      ],
      "metadata": {
        "id": "g07ZpFVSFHqy"
      },
      "execution_count": 4,
      "outputs": []
    },
    {
      "cell_type": "code",
      "execution_count": 5,
      "metadata": {
        "id": "pTW2vvpoJgoa"
      },
      "outputs": [],
      "source": [
        "ds['r'] = ds['r'].clip(max=100)"
      ]
    },
    {
      "cell_type": "code",
      "execution_count": 7,
      "metadata": {
        "collapsed": true,
        "id": "QcgsyW3a7Mx_"
      },
      "outputs": [],
      "source": [
        "# Calculate daily rainfall from cumulative values\n",
        "ds['tp_daily'] = ds['tp'].clip(min=0)  # Remove negatives, if any\n",
        "\n",
        "# Convert to mm\n",
        "ds['tp_daily'] = ds['tp_daily'] * 1000\n",
        "ds['tp_daily'].attrs['units'] = 'mm'"
      ]
    },
    {
      "cell_type": "code",
      "execution_count": 8,
      "metadata": {
        "id": "QqhnMx9OJgyj"
      },
      "outputs": [],
      "source": [
        "tp_daily = ds['tp_daily']"
      ]
    },
    {
      "cell_type": "code",
      "execution_count": 9,
      "metadata": {
        "id": "N0PnDKwam0HK"
      },
      "outputs": [],
      "source": [
        "# === 5. Align time and spatial dimensions ===\n",
        "t2m = t2m.sel(valid_time=tp_daily.valid_time)\n",
        "r   = r.sel(valid_time=tp_daily.valid_time)\n",
        "u   = u.sel(valid_time=tp_daily.valid_time)"
      ]
    },
    {
      "cell_type": "code",
      "execution_count": 10,
      "metadata": {
        "id": "SAsURjzVkD2G"
      },
      "outputs": [],
      "source": [
        "# === 8. Flatten spatial-temporal grid for ML ===\n",
        "latitude = ds['latitude'].values\n",
        "longitude = ds['longitude'].values\n",
        "valid_time = ds['valid_time'].values"
      ]
    },
    {
      "cell_type": "code",
      "execution_count": 11,
      "metadata": {
        "id": "kb6jTsx0Jgzn"
      },
      "outputs": [],
      "source": [
        "# === 2. Flatten each variable individually ===\n",
        "t2m_flat = ds['t2m'].data.flatten()   # Dask array\n",
        "r_flat   = ds['r'].data.flatten()\n",
        "u_flat   = ds['u'].data.flatten()\n",
        "tp_flat  = ds['tp_daily'].data.flatten()"
      ]
    },
    {
      "cell_type": "code",
      "execution_count": 12,
      "metadata": {
        "id": "HGlq9DLYJg1S"
      },
      "outputs": [],
      "source": [
        "import numpy as np\n",
        "\n",
        "# Repeat lat/lon grids\n",
        "lat_grid = np.repeat(latitude[:, None], len(longitude), axis=1)  # (lat, lon)\n",
        "lon_grid = np.tile(longitude, (len(latitude), 1))                # (lat, lon)'''"
      ]
    },
    {
      "cell_type": "code",
      "source": [
        "import pandas as pd\n",
        "import numpy as np\n",
        "\n",
        "# Assume ds_merged contains your aligned variables\n",
        "times = pd.to_datetime(ds['valid_time'].values)  # use the time dimension that matches t2m_flat\n",
        "\n",
        "# How many grid points per time step?\n",
        "num_points_per_time = len(ds['latitude']) * len(ds['longitude'])\n",
        "\n",
        "# Repeat each timestamp for all grid points\n",
        "valid_time_array = np.repeat(times.values, num_points_per_time)\n",
        "\n",
        "print(len(valid_time_array), len(t2m_flat))  # should now match exactly\n",
        "\n",
        "# Convert to month/day or numeric values\n",
        "month_array = np.array([t.month for t in pd.to_datetime(valid_time_array)])\n",
        "day_of_year_array = np.array([t.dayofyear for t in pd.to_datetime(valid_time_array)])\n",
        "\n",
        "print(len(valid_time_array))\n"
      ],
      "metadata": {
        "colab": {
          "base_uri": "https://localhost:8080/"
        },
        "id": "uL55cm1dxWsf",
        "outputId": "86cfc6ba-6d09-4759-ac8f-27a4ab18faac"
      },
      "execution_count": 13,
      "outputs": [
        {
          "output_type": "stream",
          "name": "stdout",
          "text": [
            "12280800 12280800\n",
            "12280800\n"
          ]
        }
      ]
    },
    {
      "cell_type": "code",
      "source": [
        "print(len(t2m_flat), len(r_flat), len(u_flat))\n",
        "print(len(np.tile(lat_grid, len(valid_time)).flatten()))"
      ],
      "metadata": {
        "colab": {
          "base_uri": "https://localhost:8080/"
        },
        "id": "dGu8kh822xec",
        "outputId": "f9292bf8-ed21-48aa-f0ec-c4fc9787faa3"
      },
      "execution_count": 14,
      "outputs": [
        {
          "output_type": "stream",
          "name": "stdout",
          "text": [
            "12280800 12280800 12280800\n",
            "12280800\n"
          ]
        }
      ]
    },
    {
      "cell_type": "code",
      "source": [
        "print(len(valid_time_array))\n"
      ],
      "metadata": {
        "colab": {
          "base_uri": "https://localhost:8080/"
        },
        "id": "iTRN5XsJ2zRa",
        "outputId": "69bd740c-40b3-4f4c-e6ae-fbea57d492aa"
      },
      "execution_count": 15,
      "outputs": [
        {
          "output_type": "stream",
          "name": "stdout",
          "text": [
            "12280800\n"
          ]
        }
      ]
    },
    {
      "cell_type": "code",
      "source": [
        "X = np.stack([\n",
        "    t2m_flat,\n",
        "    r_flat,\n",
        "    u_flat,\n",
        "    np.tile(lat_grid, len(valid_time)).flatten(),\n",
        "    np.tile(lon_grid, len(valid_time)).flatten(),\n",
        "    month_array,\n",
        "    day_of_year_array\n",
        "], axis=1)\n",
        "\n",
        "print(X.shape)"
      ],
      "metadata": {
        "id": "YCTlVxNdmo8Y",
        "colab": {
          "base_uri": "https://localhost:8080/"
        },
        "outputId": "b476d207-f8c9-430b-e2d9-722d19d94912"
      },
      "execution_count": 16,
      "outputs": [
        {
          "output_type": "stream",
          "name": "stdout",
          "text": [
            "(12280800, 7)\n"
          ]
        }
      ]
    },
    {
      "cell_type": "code",
      "source": [
        "# Ensure it's 2D\n",
        "X = X.reshape(X.shape[0], -1)"
      ],
      "metadata": {
        "id": "X9BL2spm0jxP"
      },
      "execution_count": 17,
      "outputs": []
    },
    {
      "cell_type": "code",
      "source": [
        "y_log = np.log1p(tp_flat)"
      ],
      "metadata": {
        "id": "CHyabVmymZ12"
      },
      "execution_count": 18,
      "outputs": []
    },
    {
      "cell_type": "code",
      "source": [
        "np.any(y_log < 0)\n"
      ],
      "metadata": {
        "colab": {
          "base_uri": "https://localhost:8080/"
        },
        "id": "sLVq-tjQb54O",
        "outputId": "a01a7c34-104a-4483-b7b6-206c69e4cd9f"
      },
      "execution_count": 19,
      "outputs": [
        {
          "output_type": "execute_result",
          "data": {
            "text/plain": [
              "np.False_"
            ]
          },
          "metadata": {},
          "execution_count": 19
        }
      ]
    },
    {
      "cell_type": "code",
      "source": [
        "print(y_log[:100])"
      ],
      "metadata": {
        "colab": {
          "base_uri": "https://localhost:8080/"
        },
        "id": "Nk09YB77cU0G",
        "outputId": "597ad74b-6b42-4a57-9741-cebc450e97e7"
      },
      "execution_count": 20,
      "outputs": [
        {
          "output_type": "stream",
          "name": "stdout",
          "text": [
            "[0.        0.        0.        1.3431834 1.3431834 0.        0.\n",
            " 0.        0.        0.        0.        1.07744   2.2661984 2.8473637\n",
            " 2.784961  2.1517148 1.3431834 0.        1.07744   2.0419374 2.5928612\n",
            " 2.2661984 0.        0.6387278 0.6387278 0.6387278 1.5839769 1.8964859\n",
            " 2.0419374 2.0419374 1.7523898 0.        0.        0.        0.\n",
            " 0.        0.        0.        0.        0.        0.        0.\n",
            " 0.        0.        0.        0.        0.        0.        0.\n",
            " 0.        0.        0.        0.        0.        0.        0.\n",
            " 0.        0.        0.        0.        0.        0.        0.\n",
            " 0.        0.        0.        0.        0.        0.        0.\n",
            " 0.        0.        0.        0.        0.        2.1517148 2.784961\n",
            " 3.35746   4.030398  4.588071  4.441398  3.4794369 2.8979175 2.0419374\n",
            " 1.07744   0.        0.        0.        0.        0.        0.\n",
            " 0.6387278 0.6387278 0.        0.        0.        0.        0.\n",
            " 0.        0.       ]\n"
          ]
        }
      ]
    },
    {
      "cell_type": "code",
      "execution_count": 21,
      "metadata": {
        "colab": {
          "base_uri": "https://localhost:8080/"
        },
        "id": "o_dhk1uyiP2C",
        "outputId": "8aab8944-826e-4e8f-f7e9-81e6d2a7b442"
      },
      "outputs": [
        {
          "output_type": "stream",
          "name": "stdout",
          "text": [
            "✅ Features and targets prepared.\n",
            "X shape: (12280800, 7)\n",
            "y shape: (12280800,)\n"
          ]
        }
      ],
      "source": [
        "print(\"✅ Features and targets prepared.\")\n",
        "print(\"X shape:\", X.shape)\n",
        "print(\"y shape:\", y_log.shape)"
      ]
    },
    {
      "cell_type": "code",
      "execution_count": 22,
      "metadata": {
        "colab": {
          "base_uri": "https://localhost:8080/"
        },
        "id": "mnFlLslbiP4l",
        "outputId": "30c21e5e-ff67-486c-be14-9bf11814dc1c"
      },
      "outputs": [
        {
          "output_type": "stream",
          "name": "stdout",
          "text": [
            "✅ Preprocessing done!\n",
            "Input shape: (12280800, 7), Target shape: (12280800,)\n"
          ]
        }
      ],
      "source": [
        "print(\"✅ Preprocessing done!\")\n",
        "print(f\"Input shape: {X.shape}, Target shape: {y_log.shape}\")"
      ]
    },
    {
      "cell_type": "code",
      "execution_count": 23,
      "metadata": {
        "id": "ZGuobIBuiP7N"
      },
      "outputs": [],
      "source": [
        "from sklearn.model_selection import train_test_split\n",
        "from sklearn.ensemble import RandomForestRegressor\n",
        "from sklearn.metrics import mean_squared_error, mean_absolute_error, r2_score\n",
        "import xgboost as xgb\n",
        "from xgboost import XGBRegressor\n",
        "from scipy.stats import randint, uniform\n",
        "from xgboost import XGBRegressor\n",
        "from sklearn.model_selection import RandomizedSearchCV\n",
        "import tensorflow as tf\n",
        "from tensorflow.keras import layers, Model\n",
        "from tensorflow.keras.optimizers import Adam\n",
        "from tensorflow.keras.callbacks import EarlyStopping, ReduceLROnPlateau\n",
        "import matplotlib.pyplot as plt\n"
      ]
    },
    {
      "cell_type": "code",
      "source": [
        "# 5. Create sequences: past_seq days → next day's rainfall\n",
        "# -----------------\n",
        "past_seq = 90\n",
        "X_seq, y_log_seq = [], []\n",
        "n_time = ds['tp_daily'].shape[0]  # Calculate n_time from the shape of tp_daily\n",
        "for t in range(past_seq, n_time):\n",
        "    # Assuming features and target are defined earlier in your notebook\n",
        "    # Replace with your actual features and target variables\n",
        "    # For example, if X is your features and tp_daily is your target:\n",
        "    features = X # Replace with your actual features\n",
        "    target = tp_daily # Replace with your actual target\n",
        "\n",
        "    X_seq.append(features[t-past_seq:t])  # shape: (past_seq, features)\n",
        "    y_log_seq.append(target[t])               # rainfall at time t\n",
        "\n",
        "X_seq = np.array(X_seq)  # (samples, past_seq, features)\n",
        "y_log_seq = np.array(y_log_seq)  # (samples, grid_points)\n",
        "\n",
        "# For simplicity: predict average rainfall across region\n",
        "y_log_seq = y_log_seq.mean(axis=1)"
      ],
      "metadata": {
        "id": "8w8v4qk-cJ_v"
      },
      "execution_count": 24,
      "outputs": []
    },
    {
      "cell_type": "code",
      "source": [
        "from tensorflow.keras import layers, Model\n",
        "from sklearn.model_selection import train_test_split\n",
        "\n",
        "# 7. Transformer model for feature extraction\n",
        "# -----------------\n",
        "def transformer_encoder(inputs, head_size, num_heads, ff_dim, dropout=0):\n",
        "    x = layers.MultiHeadAttention(key_dim=head_size, num_heads=num_heads)(inputs, inputs)\n",
        "    x = layers.Dropout(dropout)(x)\n",
        "    x = layers.LayerNormalization(epsilon=1e-6)(x)\n",
        "    res = x + inputs\n",
        "\n",
        "    x = layers.Dense(ff_dim, activation=\"relu\")(res)\n",
        "    x = layers.Dropout(dropout)(x)\n",
        "    x = layers.Dense(inputs.shape[-1])(x)\n",
        "    return layers.LayerNormalization(epsilon=1e-6)(x + res)\n",
        "\n",
        "n_features = X_seq.shape[-1] # Calculate n_features from the shape of X_seq\n",
        "inp = layers.Input(shape=(past_seq, n_features))\n",
        "x = transformer_encoder(inp, head_size=64, num_heads=2, ff_dim=128, dropout=0.1)\n",
        "x = layers.GlobalAveragePooling1D()(x)  # flatten temporal features\n",
        "transformer_model = Model(inputs=inp, outputs=x)"
      ],
      "metadata": {
        "id": "j2Hm-iPIcJ6P"
      },
      "execution_count": 25,
      "outputs": []
    },
    {
      "cell_type": "code",
      "source": [
        "X_train, X_test, y_log_train, y_log_test = train_test_split(X_seq, y_log_seq, test_size=0.2, shuffle=False)"
      ],
      "metadata": {
        "id": "tHzk0Fd3DznL"
      },
      "execution_count": 26,
      "outputs": []
    },
    {
      "cell_type": "code",
      "source": [
        "train_features = transformer_model.predict(X_train, batch_size=32)\n",
        "test_features = transformer_model.predict(X_test, batch_size=32)"
      ],
      "metadata": {
        "colab": {
          "base_uri": "https://localhost:8080/"
        },
        "id": "XVftu8iEcJ3V",
        "outputId": "52de51d3-d6cc-4a27-88f4-0cf248b6239e"
      },
      "execution_count": 27,
      "outputs": [
        {
          "output_type": "stream",
          "name": "stdout",
          "text": [
            "\u001b[1m16/16\u001b[0m \u001b[32m━━━━━━━━━━━━━━━━━━━━\u001b[0m\u001b[37m\u001b[0m \u001b[1m1s\u001b[0m 14ms/step\n",
            "\u001b[1m5/5\u001b[0m \u001b[32m━━━━━━━━━━━━━━━━━━━━\u001b[0m\u001b[37m\u001b[0m \u001b[1m0s\u001b[0m 41ms/step\n"
          ]
        }
      ]
    },
    {
      "cell_type": "code",
      "source": [
        "import tensorflow as tf\n",
        "\n",
        "# Transformer model definition\n",
        "transformer_model = tf.keras.Sequential([\n",
        "    tf.keras.layers.Dense(128, activation='relu'),\n",
        "    tf.keras.layers.Dense(64, activation='relu')\n",
        "])\n",
        "\n",
        "# Optimizer for Transformer\n",
        "optimizer = tf.keras.optimizers.Adam(learning_rate=1e-4)\n",
        "\n",
        "transformer_model.compile(\n",
        "    optimizer=optimizer,\n",
        "    loss='mse',\n",
        "    metrics=['mae']\n",
        ")\n"
      ],
      "metadata": {
        "id": "vOzHyuHxeCE0"
      },
      "execution_count": 29,
      "outputs": []
    },
    {
      "cell_type": "code",
      "source": [
        "final_model = XGBRegressor(\n",
        "    colsample_bytree=0.9242271325136076,\n",
        "    gamma=0.5431252624111691,\n",
        "    learning_rate=0.28364924523059926,\n",
        "    max_depth=9,\n",
        "    min_child_weight=9,\n",
        "    n_estimators=456,\n",
        "    reg_alpha=0.08550508067834788,\n",
        "    reg_lambda=1.833087491721022,\n",
        "    subsample=0.9398475058630121,\n",
        "    random_state=42,\n",
        "    n_jobs=-1,\n",
        "    objective='reg:squarederror',\n",
        "    epoch= 200\n",
        ")\n",
        "\n",
        "final_model.fit(X_train, y_log_train)"
      ],
      "metadata": {
        "id": "CKmi-h37mbEz"
      },
      "execution_count": null,
      "outputs": []
    },
    {
      "cell_type": "code",
      "source": [
        "y_pred_final = final_model.predict(X_test)\n",
        "print(y_pred_final)"
      ],
      "metadata": {
        "id": "DGrhUl1nmbHT",
        "colab": {
          "base_uri": "https://localhost:8080/"
        },
        "outputId": "3909b4c8-5520-42fe-c1e8-607290c633dd"
      },
      "execution_count": 31,
      "outputs": [
        {
          "output_type": "stream",
          "name": "stdout",
          "text": [
            "[3.5143254 3.5546982 3.6263916 ... 8.984718  8.472759  5.6040955]\n"
          ]
        }
      ]
    },
    {
      "cell_type": "code",
      "source": [
        "mse = mean_squared_error(y_log_test, y_pred_final)\n",
        "mae = mean_absolute_error(y_log_test, y_pred_final)\n",
        "r2 = r2_score(y_log_test, y_pred_final)\n"
      ],
      "metadata": {
        "id": "nVKQumDLmbKE"
      },
      "execution_count": 32,
      "outputs": []
    },
    {
      "cell_type": "code",
      "source": [
        "print(f\"Mean Squared Error (MSE): {mse:.3f}\")\n",
        "print(f\"Mean Absolute Error (MAE): {mae:.3f}\")\n",
        "print(f\"R² Score: {r2:.3f}\")"
      ],
      "metadata": {
        "colab": {
          "base_uri": "https://localhost:8080/"
        },
        "id": "vAUDbqo_cACs",
        "outputId": "6f07a846-5538-4ac8-c52b-0b1e2950ddb0"
      },
      "execution_count": 34,
      "outputs": [
        {
          "output_type": "stream",
          "name": "stdout",
          "text": [
            "Mean Squared Error (MSE): 2.674\n",
            "Mean Absolute Error (MAE): 3.361\n",
            "R² Score: 0.678\n"
          ]
        }
      ]
    },
    {
      "cell_type": "code",
      "source": [
        "y_pred_final_normal = np.expm1(y_pred_final)\n",
        "y_pred_final_normal = np.clip(y_pred_final_normal, 0, None)\n",
        "print(y_pred_final_normal)"
      ],
      "metadata": {
        "id": "2U1g4crPmbNY"
      },
      "execution_count": null,
      "outputs": []
    },
    {
      "cell_type": "code",
      "source": [
        "np.any(y_pred_final_normal < 0)\n"
      ],
      "metadata": {
        "colab": {
          "base_uri": "https://localhost:8080/"
        },
        "id": "OSRrp_eRcFMI",
        "outputId": "b394861c-eb71-4b18-ff57-952351b569d4"
      },
      "execution_count": 36,
      "outputs": [
        {
          "output_type": "execute_result",
          "data": {
            "text/plain": [
              "np.False_"
            ]
          },
          "metadata": {},
          "execution_count": 36
        }
      ]
    },
    {
      "cell_type": "code",
      "source": [
        "import matplotlib.pyplot as plt\n",
        "import numpy as np\n",
        "\n",
        "plt.figure(figsize=(10, 4))\n",
        "\n",
        "# Convert to 1D arrays\n",
        "actual_line = np.ravel(y_log_test[:1000])  # flatten\n",
        "predicted_line = np.ravel(y_pred_final[:1000])\n",
        "\n",
        "# Or use mean if multiple features per day\n",
        "# actual_line = np.mean(y_log_test[:100], axis=1)\n",
        "# predicted_line = np.mean(y_pred_final[:100], axis=1)\n",
        "\n",
        "plt.plot(actual_line, label=\"Actual\", color='blue')\n",
        "plt.plot(predicted_line, label=\"Predicted\", color='red')\n",
        "\n",
        "plt.title(\"Rainfall Forecasting\")\n",
        "plt.xlabel(\"Day\")\n",
        "plt.ylabel(\"Rainfall (m)\")\n",
        "plt.legend()\n",
        "plt.show()"
      ],
      "metadata": {
        "colab": {
          "base_uri": "https://localhost:8080/",
          "height": 410
        },
        "id": "FpFLOSi3eqW0",
        "outputId": "31a43f65-a91c-4b56-c27e-d38fe05b7698"
      },
      "execution_count": 37,
      "outputs": [
        {
          "output_type": "display_data",
          "data": {
            "text/plain": [
              "<Figure size 1000x400 with 1 Axes>"
            ],
            "image/png": "[encoded data removed]"
          },
          "metadata": {}
        }
      ]
    },
    {
      "cell_type": "code",
      "source": [
        "'''import seaborn as sns\n",
        "\n",
        "sns.boxplot(x=y_pred_final_normal)\n",
        "plt.show()'''"
      ],
      "metadata": {
        "id": "tlsRhhmNiWj4",
        "colab": {
          "base_uri": "https://localhost:8080/",
          "height": 35
        },
        "outputId": "7539798a-f5f3-4fb4-e0a8-500090563a92"
      },
      "execution_count": 38,
      "outputs": [
        {
          "output_type": "execute_result",
          "data": {
            "text/plain": [
              "'import seaborn as sns\\n\\nsns.boxplot(x=y_pred_final_normal)\\nplt.show()'"
            ],
            "application/vnd.google.colaboratory.intrinsic+json": {
              "type": "string"
            }
          },
          "metadata": {},
          "execution_count": 38
        }
      ]
    },
    {
      "cell_type": "code",
      "source": [
        "#save the model\n",
        "\n",
        "import joblib\n",
        "joblib.dump(final_model, 'Rainfall_model2.pkl')"
      ],
      "metadata": {
        "id": "IGVoYHtVf-2D",
        "colab": {
          "base_uri": "https://localhost:8080/"
        },
        "outputId": "9131f594-518a-4faa-d6c8-ba9449b2d825"
      },
      "execution_count": 39,
      "outputs": [
        {
          "output_type": "execute_result",
          "data": {
            "text/plain": [
              "['Rainfall_model2.pkl']"
            ]
          },
          "metadata": {},
          "execution_count": 39
        }
      ]
    },
    {
      "cell_type": "code",
      "source": [
        "#load the saved model\n",
        "\n",
        "import joblib\n",
        "\n",
        "# Load the model\n",
        "model = joblib.load('/content/Rainfall_model2.pkl')\n",
        "print(model)"
      ],
      "metadata": {
        "id": "v1dTxealOJpo",
        "colab": {
          "base_uri": "https://localhost:8080/"
        },
        "outputId": "fb13dd76-bf06-4b64-d568-f17eca88e4af"
      },
      "execution_count": 40,
      "outputs": [
        {
          "output_type": "stream",
          "name": "stdout",
          "text": [
            "XGBRegressor(base_score=None, booster=None, callbacks=None,\n",
            "             colsample_bylevel=None, colsample_bynode=None,\n",
            "             colsample_bytree=0.9242271325136076, device=None,\n",
            "             early_stopping_rounds=None, enable_categorical=False, epoch=200,\n",
            "             eval_metric=None, feature_types=None, feature_weights=None,\n",
            "             gamma=0.5431252624111691, grow_policy=None, importance_type=None,\n",
            "             interaction_constraints=None, learning_rate=0.28364924523059926,\n",
            "             max_bin=None, max_cat_threshold=None, max_cat_to_onehot=None,\n",
            "             max_delta_step=None, max_depth=9, max_leaves=None,\n",
            "             min_child_weight=9, missing=nan, monotone_constraints=None,\n",
            "             multi_strategy=None, n_estimators=456, n_jobs=-1, ...)\n"
          ]
        }
      ]
    },
    {
      "cell_type": "code",
      "source": [
        "with open(\"Rainfall_model2.pkl\", \"rb\") as f:\n",
        "    print(f.read(20))"
      ],
      "metadata": {
        "id": "wyORNUNQOJsQ",
        "colab": {
          "base_uri": "https://localhost:8080/"
        },
        "outputId": "4c17d2ec-afb1-4ac2-9180-cf422e085379"
      },
      "execution_count": 41,
      "outputs": [
        {
          "output_type": "stream",
          "name": "stdout",
          "text": [
            "b'\\x80\\x04\\x95~\\x03\\x00\\x00\\x00\\x00\\x00\\x00\\x8c\\x0fxgboost'\n"
          ]
        }
      ]
    },
    {
      "cell_type": "code",
      "source": [
        "import pickle"
      ],
      "metadata": {
        "id": "DVoC5xww83RJ"
      },
      "execution_count": 42,
      "outputs": []
    },
    {
      "cell_type": "code",
      "source": [
        "with open(\"Rainfall_model2.pkl\", \"wb\") as f:\n",
        "  pickle.dump(model, f)"
      ],
      "metadata": {
        "id": "1pzeC801OJu8"
      },
      "execution_count": 43,
      "outputs": []
    },
    {
      "cell_type": "code",
      "source": [
        "with open(\"Rainfall_model2.pkl\", \"rb\") as f:\n",
        "    model = pickle.load(f)"
      ],
      "metadata": {
        "id": "8H928MlhOJxR"
      },
      "execution_count": 44,
      "outputs": []
    },
    {
      "cell_type": "code",
      "source": [
        "import pickle\n",
        "\n",
        "# Load the model\n",
        "with open(\"/content/Rainfall_model2.pkl\", \"rb\") as file:\n",
        "    model = pickle.load(file)\n",
        "\n",
        "# Example: Predict on new/preprocessed test data\n",
        "predictions = y_pred_final_normal\n",
        "print(\"Predictions:\", predictions[:10])"
      ],
      "metadata": {
        "id": "tkgQb1kaOJz8",
        "colab": {
          "base_uri": "https://localhost:8080/"
        },
        "outputId": "43737908-400b-490f-c3f7-4517b19d4546"
      },
      "execution_count": 45,
      "outputs": [
        {
          "output_type": "stream",
          "name": "stdout",
          "text": [
            "Predictions: [32.593258 33.977264 36.57698  37.246044 31.520864 32.87699  19.668438\n",
            " 33.083126 33.628944 32.54462 ]\n"
          ]
        }
      ]
    },
    {
      "cell_type": "code",
      "source": [
        "predictions = np.abs(predictions)"
      ],
      "metadata": {
        "id": "dYgU17UkAxML"
      },
      "execution_count": 46,
      "outputs": []
    },
    {
      "cell_type": "code",
      "source": [
        "np.any(predictions < 0)\n"
      ],
      "metadata": {
        "id": "vKWKZE4uALzY",
        "colab": {
          "base_uri": "https://localhost:8080/"
        },
        "outputId": "49ad2e5c-457d-4eb7-bba5-8febbb6d414c"
      },
      "execution_count": 47,
      "outputs": [
        {
          "output_type": "execute_result",
          "data": {
            "text/plain": [
              "np.False_"
            ]
          },
          "metadata": {},
          "execution_count": 47
        }
      ]
    },
    {
      "cell_type": "code",
      "source": [
        "np.sum(predictions < 0)\n"
      ],
      "metadata": {
        "id": "ZWKUD_r7ALuS",
        "colab": {
          "base_uri": "https://localhost:8080/"
        },
        "outputId": "a43e4b3c-89c0-45b4-a402-41005bce2e51"
      },
      "execution_count": 48,
      "outputs": [
        {
          "output_type": "execute_result",
          "data": {
            "text/plain": [
              "np.int64(0)"
            ]
          },
          "metadata": {},
          "execution_count": 48
        }
      ]
    },
    {
      "cell_type": "code",
      "source": [
        "pip install streamlit"
      ],
      "metadata": {
        "id": "1w9LyVPmALq5",
        "colab": {
          "base_uri": "https://localhost:8080/"
        },
        "outputId": "6584045e-bee3-4608-d2e0-c446fe6dc0cd"
      },
      "execution_count": 50,
      "outputs": [
        {
          "output_type": "stream",
          "name": "stdout",
          "text": [
            "Collecting streamlit\n",
            "  Downloading streamlit-1.48.1-py3-none-any.whl.metadata (9.5 kB)\n",
            "Requirement already satisfied: altair!=5.4.0,!=5.4.1,<6,>=4.0 in /usr/local/lib/python3.11/dist-packages (from streamlit) (5.5.0)\n",
            "Requirement already satisfied: blinker<2,>=1.5.0 in /usr/local/lib/python3.11/dist-packages (from streamlit) (1.9.0)\n",
            "Requirement already satisfied: cachetools<7,>=4.0 in /usr/local/lib/python3.11/dist-packages (from streamlit) (5.5.2)\n",
            "Requirement already satisfied: click<9,>=7.0 in /usr/local/lib/python3.11/dist-packages (from streamlit) (8.2.1)\n",
            "Requirement already satisfied: numpy<3,>=1.23 in /usr/local/lib/python3.11/dist-packages (from streamlit) (2.0.2)\n",
            "Requirement already satisfied: packaging<26,>=20 in /usr/local/lib/python3.11/dist-packages (from streamlit) (25.0)\n",
            "Requirement already satisfied: pandas<3,>=1.4.0 in /usr/local/lib/python3.11/dist-packages (from streamlit) (2.2.2)\n",
            "Requirement already satisfied: pillow<12,>=7.1.0 in /usr/local/lib/python3.11/dist-packages (from streamlit) (11.3.0)\n",
            "Requirement already satisfied: protobuf<7,>=3.20 in /usr/local/lib/python3.11/dist-packages (from streamlit) (5.29.5)\n",
            "Requirement already satisfied: pyarrow>=7.0 in /usr/local/lib/python3.11/dist-packages (from streamlit) (18.1.0)\n",
            "Requirement already satisfied: requests<3,>=2.27 in /usr/local/lib/python3.11/dist-packages (from streamlit) (2.32.3)\n",
            "Requirement already satisfied: tenacity<10,>=8.1.0 in /usr/local/lib/python3.11/dist-packages (from streamlit) (9.1.2)\n",
            "Requirement already satisfied: toml<2,>=0.10.1 in /usr/local/lib/python3.11/dist-packages (from streamlit) (0.10.2)\n",
            "Requirement already satisfied: typing-extensions<5,>=4.4.0 in /usr/local/lib/python3.11/dist-packages (from streamlit) (4.14.1)\n",
            "Collecting watchdog<7,>=2.1.5 (from streamlit)\n",
            "  Downloading watchdog-6.0.0-py3-none-manylinux2014_x86_64.whl.metadata (44 kB)\n",
            "\u001b[2K     \u001b[90m━━━━━━━━━━━━━━━━━━━━━━━━━━━━━━━━━━━━━━━━\u001b[0m \u001b[32m44.3/44.3 kB\u001b[0m \u001b[31m1.9 MB/s\u001b[0m eta \u001b[36m0:00:00\u001b[0m\n",
            "\u001b[?25hRequirement already satisfied: gitpython!=3.1.19,<4,>=3.0.7 in /usr/local/lib/python3.11/dist-packages (from streamlit) (3.1.45)\n",
            "Collecting pydeck<1,>=0.8.0b4 (from streamlit)\n",
            "  Downloading pydeck-0.9.1-py2.py3-none-any.whl.metadata (4.1 kB)\n",
            "Requirement already satisfied: tornado!=6.5.0,<7,>=6.0.3 in /usr/local/lib/python3.11/dist-packages (from streamlit) (6.4.2)\n",
            "Requirement already satisfied: jinja2 in /usr/local/lib/python3.11/dist-packages (from altair!=5.4.0,!=5.4.1,<6,>=4.0->streamlit) (3.1.6)\n",
            "Requirement already satisfied: jsonschema>=3.0 in /usr/local/lib/python3.11/dist-packages (from altair!=5.4.0,!=5.4.1,<6,>=4.0->streamlit) (4.25.0)\n",
            "Requirement already satisfied: narwhals>=1.14.2 in /usr/local/lib/python3.11/dist-packages (from altair!=5.4.0,!=5.4.1,<6,>=4.0->streamlit) (2.1.1)\n",
            "Requirement already satisfied: gitdb<5,>=4.0.1 in /usr/local/lib/python3.11/dist-packages (from gitpython!=3.1.19,<4,>=3.0.7->streamlit) (4.0.12)\n",
            "Requirement already satisfied: python-dateutil>=2.8.2 in /usr/local/lib/python3.11/dist-packages (from pandas<3,>=1.4.0->streamlit) (2.9.0.post0)\n",
            "Requirement already satisfied: pytz>=2020.1 in /usr/local/lib/python3.11/dist-packages (from pandas<3,>=1.4.0->streamlit) (2025.2)\n",
            "Requirement already satisfied: tzdata>=2022.7 in /usr/local/lib/python3.11/dist-packages (from pandas<3,>=1.4.0->streamlit) (2025.2)\n",
            "Requirement already satisfied: charset-normalizer<4,>=2 in /usr/local/lib/python3.11/dist-packages (from requests<3,>=2.27->streamlit) (3.4.3)\n",
            "Requirement already satisfied: idna<4,>=2.5 in /usr/local/lib/python3.11/dist-packages (from requests<3,>=2.27->streamlit) (3.10)\n",
            "Requirement already satisfied: urllib3<3,>=1.21.1 in /usr/local/lib/python3.11/dist-packages (from requests<3,>=2.27->streamlit) (2.5.0)\n",
            "Requirement already satisfied: certifi>=2017.4.17 in /usr/local/lib/python3.11/dist-packages (from requests<3,>=2.27->streamlit) (2025.8.3)\n",
            "Requirement already satisfied: smmap<6,>=3.0.1 in /usr/local/lib/python3.11/dist-packages (from gitdb<5,>=4.0.1->gitpython!=3.1.19,<4,>=3.0.7->streamlit) (5.0.2)\n",
            "Requirement already satisfied: MarkupSafe>=2.0 in /usr/local/lib/python3.11/dist-packages (from jinja2->altair!=5.4.0,!=5.4.1,<6,>=4.0->streamlit) (3.0.2)\n",
            "Requirement already satisfied: attrs>=22.2.0 in /usr/local/lib/python3.11/dist-packages (from jsonschema>=3.0->altair!=5.4.0,!=5.4.1,<6,>=4.0->streamlit) (25.3.0)\n",
            "Requirement already satisfied: jsonschema-specifications>=2023.03.6 in /usr/local/lib/python3.11/dist-packages (from jsonschema>=3.0->altair!=5.4.0,!=5.4.1,<6,>=4.0->streamlit) (2025.4.1)\n",
            "Requirement already satisfied: referencing>=0.28.4 in /usr/local/lib/python3.11/dist-packages (from jsonschema>=3.0->altair!=5.4.0,!=5.4.1,<6,>=4.0->streamlit) (0.36.2)\n",
            "Requirement already satisfied: rpds-py>=0.7.1 in /usr/local/lib/python3.11/dist-packages (from jsonschema>=3.0->altair!=5.4.0,!=5.4.1,<6,>=4.0->streamlit) (0.27.0)\n",
            "Requirement already satisfied: six>=1.5 in /usr/local/lib/python3.11/dist-packages (from python-dateutil>=2.8.2->pandas<3,>=1.4.0->streamlit) (1.17.0)\n",
            "Downloading streamlit-1.48.1-py3-none-any.whl (9.9 MB)\n",
            "\u001b[2K   \u001b[90m━━━━━━━━━━━━━━━━━━━━━━━━━━━━━━━━━━━━━━━━\u001b[0m \u001b[32m9.9/9.9 MB\u001b[0m \u001b[31m34.5 MB/s\u001b[0m eta \u001b[36m0:00:00\u001b[0m\n",
            "\u001b[?25hDownloading pydeck-0.9.1-py2.py3-none-any.whl (6.9 MB)\n",
            "\u001b[2K   \u001b[90m━━━━━━━━━━━━━━━━━━━━━━━━━━━━━━━━━━━━━━━━\u001b[0m \u001b[32m6.9/6.9 MB\u001b[0m \u001b[31m53.9 MB/s\u001b[0m eta \u001b[36m0:00:00\u001b[0m\n",
            "\u001b[?25hDownloading watchdog-6.0.0-py3-none-manylinux2014_x86_64.whl (79 kB)\n",
            "\u001b[2K   \u001b[90m━━━━━━━━━━━━━━━━━━━━━━━━━━━━━━━━━━━━━━━━\u001b[0m \u001b[32m79.1/79.1 kB\u001b[0m \u001b[31m5.8 MB/s\u001b[0m eta \u001b[36m0:00:00\u001b[0m\n",
            "\u001b[?25hInstalling collected packages: watchdog, pydeck, streamlit\n",
            "Successfully installed pydeck-0.9.1 streamlit-1.48.1 watchdog-6.0.0\n"
          ]
        }
      ]
    },
    {
      "cell_type": "code",
      "source": [
        "pip install pyngrok"
      ],
      "metadata": {
        "id": "XV-Cd7ZLALn0",
        "colab": {
          "base_uri": "https://localhost:8080/"
        },
        "outputId": "63578745-96b5-4ff8-ca79-29b174c571b8"
      },
      "execution_count": 51,
      "outputs": [
        {
          "output_type": "stream",
          "name": "stdout",
          "text": [
            "Collecting pyngrok\n",
            "  Downloading pyngrok-7.3.0-py3-none-any.whl.metadata (8.1 kB)\n",
            "Requirement already satisfied: PyYAML>=5.1 in /usr/local/lib/python3.11/dist-packages (from pyngrok) (6.0.2)\n",
            "Downloading pyngrok-7.3.0-py3-none-any.whl (25 kB)\n",
            "Installing collected packages: pyngrok\n",
            "Successfully installed pyngrok-7.3.0\n"
          ]
        }
      ]
    },
    {
      "cell_type": "code",
      "source": [
        "# Create the Streamlit app file\n",
        "with open(\"app.py\", \"w\") as f:\n",
        "    f.write('''\n",
        "\n",
        "# streamlit_app.py\n",
        "import streamlit as st\n",
        "import pickle\n",
        "import numpy as np\n",
        "from geopy.geocoders import Nominatim\n",
        "import datetime\n",
        "\n",
        "# Load the trained model\n",
        "model = pickle.load(open(\"/content/Rainfall_model2.pkl\", \"rb\"))\n",
        "\n",
        "st.title(\"🌧️ Rainfall Forecasting and Crop Advisory\")\n",
        "st.write(\"### Enter today's data:\")\n",
        "\n",
        "today = datetime.date.today()\n",
        "max_date = today + datetime.timedelta(days=90)  # 3 months from today\n",
        "\n",
        "# Input fields\n",
        "t2m = st.number_input(\"🌡️ Temperature (°C)\")\n",
        "r = st.number_input(\"💧 Relative Humidity (%)\")\n",
        "u = st.number_input(\"🌬️ Wind Speed (m/s)\")\n",
        "latitude = st.number_input(\"📍 Latitude (37.95 - 3.2)\")\n",
        "longitude = st.number_input(\"📍 Longitude (67.6 - 97.35)\")\n",
        "\n",
        "# Date input\n",
        "Date = st.date_input(\n",
        "    \"📅 Select Date\",\n",
        "    value=today,       # Default is today\n",
        "    min_value=today,   # Can't pick a past date\n",
        "    max_value=max_date # Limit to next 3 months\n",
        ")\n",
        "\n",
        "# Extract month and day_of_year from selected date\n",
        "month = Date.month\n",
        "day_of_year = Date.timetuple().tm_yday\n",
        "\n",
        "# Crop selection\n",
        "st.write(\"### Select Crop to Check Impact\")\n",
        "crops = [\"Rice\", \"Wheat\", \"Maize\", \"Cotton\", \"Pulses\"]\n",
        "selected_crop = st.selectbox(\"🌾 Select Crop\", crops)\n",
        "\n",
        "if st.button(\"🚀 Predict Rainfall & Show Impact\"):\n",
        "    # Features for selected date\n",
        "    today_features = np.array([[t2m, r, u, latitude, longitude, month, day_of_year]])\n",
        "    result_today = model.predict(today_features)\n",
        "    predicted_today = result_today.flatten()[0]\n",
        "\n",
        "    # Features for 3 months later\n",
        "    future_date = Date + datetime.timedelta(days=90)\n",
        "    future_month = future_date.month\n",
        "    future_day_of_year = future_date.timetuple().tm_yday\n",
        "    future_features = np.array([[t2m, r, u, latitude, longitude, future_month, future_day_of_year]])\n",
        "    result_future = model.predict(future_features)\n",
        "    predicted_future = result_future.flatten()[0]\n",
        "\n",
        "    st.success(f\"📅 {Date} — Predicted Rainfall: {predicted_today:.2f} mm\")\n",
        "    st.success(f\"📅 {future_date} — Predicted Rainfall: {predicted_future:.2f} mm\")\n",
        "\n",
        "    # Location info\n",
        "    geolocator = Nominatim(user_agent=\"geoapi\")\n",
        "    location = geolocator.reverse((latitude, longitude), language='en')\n",
        "    if location:\n",
        "        address = location.raw.get('address', {})\n",
        "        state = address.get('state', 'Unknown')\n",
        "        district = address.get('county', address.get('district', 'Unknown'))\n",
        "\n",
        "        st.write(\"📍 **Predicted Location:**\")\n",
        "        st.write(f\"State: `{state}`\")\n",
        "        st.write(f\"District: `{district}`\")\n",
        "    else:\n",
        "        st.warning(\"⚠️ Could not determine location from coordinates.\")\n",
        "\n",
        "    # Crop Impact Assessment\n",
        "    def assess_rainfall_effect(rainfall, crop):\n",
        "        if crop == \"Rice\":\n",
        "            if rainfall < 6:\n",
        "                return \"🚨 Low rainfall! Rice may require irrigation.\"\n",
        "            elif 6 <= rainfall <= 15:\n",
        "                return \"✅ Ideal rainfall for rice. Good yield expected.\"\n",
        "            else:\n",
        "                return \"⚠️ Excessive rainfall! Risk of waterlogging.\"\n",
        "\n",
        "        elif crop == \"Wheat\":\n",
        "            if rainfall < 2:\n",
        "                return \"🚨 Too dry for wheat. Irrigation recommended.\"\n",
        "            elif 2 <= rainfall <= 7:\n",
        "                return \"✅ Suitable rainfall for wheat.\"\n",
        "            else:\n",
        "                return \"⚠️ Excess rain may harm wheat growth.\"\n",
        "\n",
        "        elif crop == \"Maize\":\n",
        "            if rainfall < 4:\n",
        "                return \"🚨 Low rainfall. Poor germination likely.\"\n",
        "            elif 4 <= rainfall <= 11:\n",
        "                return \"✅ Good for maize growth.\"\n",
        "            else:\n",
        "                return \"⚠️ High rainfall. Risk of fungal diseases.\"\n",
        "\n",
        "        elif crop == \"Cotton\":\n",
        "            if rainfall < 4:\n",
        "                return \"🚨 Insufficient water for cotton.\"\n",
        "            elif 4 <= rainfall <= 8:\n",
        "                return \"✅ Optimal rainfall for cotton.\"\n",
        "            else:\n",
        "                return \"⚠️ Water stress may harm cotton quality.\"\n",
        "\n",
        "        elif crop == \"Pulses\":\n",
        "            if rainfall < 2:\n",
        "                return \"🚨 Not enough rainfall for pulses.\"\n",
        "            elif 2 <= rainfall <= 7:\n",
        "                return \"✅ Rainfall is good for pulses.\"\n",
        "            else:\n",
        "                return \"⚠️ Pulses may face disease pressure due to excess water.\"\n",
        "\n",
        "        return \"ℹ️ No recommendation available.\"\n",
        "\n",
        "    # Crop impact for today\n",
        "    st.subheader(\"🌱 Today's Crop Advisory\")\n",
        "    today_advice = assess_rainfall_effect(predicted_today, selected_crop)\n",
        "    st.info(today_advice)\n",
        "\n",
        "    # Crop impact for 3 months later\n",
        "    st.subheader(\"🌱 3 Months Later Crop Advisory\")\n",
        "    future_advice = assess_rainfall_effect(predicted_future, selected_crop)\n",
        "    st.info(future_advice)\n",
        "    ''')\n"
      ],
      "metadata": {
        "id": "dUqYmfcMAah3"
      },
      "execution_count": 52,
      "outputs": []
    },
    {
      "cell_type": "code",
      "source": [
        "!ngrok config add-authtoken 30MWdHzKWLcpCOUUgBkyhfAAWp5_29r43E9WnjP2V3c2AAbgR"
      ],
      "metadata": {
        "id": "C7eDDsqMALhe",
        "colab": {
          "base_uri": "https://localhost:8080/"
        },
        "outputId": "dabc47e2-fe60-4843-b23d-13aac505d0b6"
      },
      "execution_count": 53,
      "outputs": [
        {
          "output_type": "stream",
          "name": "stdout",
          "text": [
            "Authtoken saved to configuration file: /root/.config/ngrok/ngrok.yml\n"
          ]
        }
      ]
    },
    {
      "cell_type": "code",
      "source": [
        "import subprocess\n",
        "import threading\n",
        "import time\n",
        "from pyngrok import ngrok\n",
        "\n",
        "# Kill old tunnels\n",
        "ngrok.kill()\n",
        "\n",
        "# Start Streamlit app in background\n",
        "def run_app():\n",
        "    subprocess.call([\"streamlit\", \"run\", \"app.py\"])\n",
        "\n",
        "thread = threading.Thread(target=run_app)\n",
        "thread.start()\n",
        "\n",
        "# Wait for the app to launch\n",
        "time.sleep(5)\n",
        "\n",
        "# Open ngrok tunnel\n",
        "public_url = ngrok.connect(8501, \"http\")\n",
        "print(f\"🚀 Your Streamlit app is live at: {public_url}\")"
      ],
      "metadata": {
        "id": "yI9o9ccsALYf",
        "colab": {
          "base_uri": "https://localhost:8080/"
        },
        "outputId": "c28924dd-0a54-4779-af18-8470a814908e"
      },
      "execution_count": 54,
      "outputs": [
        {
          "output_type": "stream",
          "name": "stdout",
          "text": [
            "🚀 Your Streamlit app is live at: NgrokTunnel: \"https://103f61d0f799.ngrok-free.app\" -> \"http://localhost:8501\"\n"
          ]
        }
      ]
    }
  ],
  "metadata": {
    "colab": {
      "provenance": []
    },
    "kernelspec": {
      "display_name": "Python 3",
      "name": "python3"
    },
    "language_info": {
      "name": "python"
    }
  },
  "nbformat": 4,
  "nbformat_minor": 0
}